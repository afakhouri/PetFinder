{
 "cells": [
  {
   "cell_type": "markdown",
   "metadata": {},
   "source": [
    "## Loading data from CSV file:"
   ]
  },
  {
   "cell_type": "code",
   "execution_count": 1,
   "metadata": {},
   "outputs": [],
   "source": [
    "from pathlib import Path\n",
    "import json\n",
    "import pandas as pd\n",
    "\n",
    "data = Path(\"../pet_finder\") / \"data\"\n",
    "train_images = data / \"train_images\"\n",
    "train_metadata = data / \"train_metadata\"\n",
    "\n",
    "train = pd.read_csv(data / \"train\" / \"train.csv\")\n",
    "train.set_index('PetID', inplace=True)\n",
    "target = train['AdoptionSpeed']"
   ]
  },
  {
   "cell_type": "markdown",
   "metadata": {},
   "source": [
    "## Useful functions:"
   ]
  },
  {
   "cell_type": "code",
   "execution_count": 2,
   "metadata": {},
   "outputs": [],
   "source": [
    "# !pip3 install Pillow\n",
    "from PIL import Image\n",
    "\n",
    "def open_img(pet_id, string, img_number):\n",
    "    \"\"\"\n",
    "    Function for internal use which opens the image \n",
    "    and identifies the associeted metadata \n",
    "    \"\"\"\n",
    "    images = globals()[string + '_images']  # images directory path\n",
    "    metadatas = globals()[string + '_metadata']  # metadata directory path\n",
    "    with open(metadatas / (pet_id + f'-{img_number}'+ '.json'), 'r') as f:\n",
    "        metadata = json.load(f)  # image's metadata\n",
    "    path = data / \"train_images\" / (pet_id + f'-{img_number}' + '.jpg') # image's path\n",
    "    img  = Image.open(path)  # pet's image\n",
    "    return img, metadata"
   ]
  },
  {
   "cell_type": "code",
   "execution_count": 3,
   "metadata": {},
   "outputs": [],
   "source": [
    "def crop_img(pet_id, string, img_number):\n",
    "    \"\"\"\n",
    "    Function for internal use which return\n",
    "    cropped image\n",
    "    \"\"\"\n",
    "    img, metadata = open_img(pet_id, string, img_number)\n",
    "    x = metadata['cropHintsAnnotation']['cropHints'][0]['boundingPoly']['vertices'][2]['x']\n",
    "    y = metadata['cropHintsAnnotation']['cropHints'][0]['boundingPoly']['vertices'][2]['y']\n",
    "    return img.crop((0, 0, x, y))  # cropped image"
   ]
  },
  {
   "cell_type": "code",
   "execution_count": 4,
   "metadata": {},
   "outputs": [],
   "source": [
    "import numpy as np\n",
    "\n",
    "def img2matrix(img): return np.array(img)  # Function for internal use which\n",
    "                                           # convert image to numpy array"
   ]
  },
  {
   "cell_type": "code",
   "execution_count": 5,
   "metadata": {},
   "outputs": [],
   "source": [
    "def maximum_img_size(string):\n",
    "    \"\"\"\n",
    "    Function for internal use which\n",
    "    return number of images in the directory and\n",
    "    the maximum image size\n",
    "\n",
    "    Parameters \n",
    "    ----------\n",
    "    string : str\n",
    "        name of directory file\n",
    "    \"\"\"\n",
    "    shape = np.array([0, 0, 0])\n",
    "    n = 0 \n",
    "    for pet_id in tqdm((globals()[string]).index):\n",
    "        img_number = 1\n",
    "        while True:\n",
    "            try:\n",
    "                img = crop_img(pet_id=pet_id,\n",
    "                               string=string,\n",
    "                               img_number=img_number)  # cropped image\n",
    "                img_number += 1\n",
    "                try:\n",
    "                    shape = np.maximum(shape, \n",
    "                                       img2matrix(img).shape) # image shape\n",
    "                    n += 1\n",
    "                except ValueError:\n",
    "                    pass\n",
    "            except FileNotFoundError:\n",
    "                break\n",
    "    return (n, \n",
    "            shape[0], \n",
    "            shape[1], \n",
    "            shape[2])"
   ]
  },
  {
   "cell_type": "code",
   "execution_count": 8,
   "metadata": {},
   "outputs": [],
   "source": [
    "from tqdm.notebook import tqdm\n",
    "#!pip3 install h5py\n",
    "import h5py\n",
    "\n",
    "def prep_data(string, data_size=None):\n",
    "    \"\"\"\n",
    "    Data preparation function for the keras neural network,\n",
    "    which records the images in digital form on the hdf5 file\n",
    "    \n",
    "    N.B: data cannot be stored in memory due to their large dimensionality.\n",
    "         Another solution which I find much more convenient than memmaps is hdf5 with h5py.\n",
    "         Keras can run directly on h5py files, eliminating the need to manually specify the\n",
    "         training on each batch.\n",
    "         \n",
    "    Parameters\n",
    "    ----------\n",
    "    string : str\n",
    "        name of directory file\n",
    "    data_size : int or None\n",
    "        number of images in the training set.\n",
    "        if data_size is None than all images \n",
    "        are taken in the dataset.\n",
    "\n",
    "    Returns\n",
    "    -------\n",
    "    train_Y : List\n",
    "        targets\n",
    "    shape : tuple, size = 4\n",
    "        shape of train file\n",
    "    \"\"\"\n",
    "    #f = h5py.File('train.hdf5', 'w')  # open hdf5 file\n",
    "                                      # in write mode\n",
    "    #n, n1, n2, n3 = maximum_img_size(\"train\")\n",
    "    if data_size is not None:\n",
    "        n = data_size\n",
    "    #shape = (n, n1, n2, n3)\n",
    "    #train_X = f.create_dataset('train_images', \n",
    "                               #shape, \n",
    "                               #dtype='float32')  # dataset\n",
    "    train_Y = []\n",
    "    tidx = 0\n",
    "    for pet_id in tqdm((globals()[string]).index):\n",
    "        try:\n",
    "            img_number = 1\n",
    "            while True:\n",
    "                try:\n",
    "                    img = crop_img(pet_id=pet_id,\n",
    "                                   string=string,\n",
    "                                   img_number=img_number)  # cropped image\n",
    "                    matrix = img2matrix(img)  # image converted on digital form\n",
    "                    try :\n",
    "                        #n4, n5, _ = matrix.shape\n",
    "                        #train_X[tidx] = np.pad(matrix,\n",
    "                                               #(((n1 - n4) // 2, (n1 - n4 + 1) // 2), \n",
    "                                                #((n2 - n5) // 2, (n2 - n5 + 1) // 2),\n",
    "                                                #(0, 0)),\n",
    "                                               #'constant',\n",
    "                                               #constant_values=0)  # pad matrix\n",
    "                        if len(matrix.shape) == 3:\n",
    "                            train_Y.append(target[pet_id])\n",
    "                            img_number += 1\n",
    "                            tidx += 1\n",
    "                            if tidx == n:\n",
    "                                #f.close()\n",
    "                                return train_Y\n",
    "                    except ValueError:\n",
    "                        img_number += 1\n",
    "                        pass\n",
    "                except FileNotFoundError:\n",
    "                    break\n",
    "        except FileNotFoundError:\n",
    "            pass\n",
    "    #f.close()\n",
    "    return train_Y"
   ]
  },
  {
   "cell_type": "code",
   "execution_count": 9,
   "metadata": {
    "collapsed": true
   },
   "outputs": [
    {
     "data": {
      "application/vnd.jupyter.widget-view+json": {
       "model_id": "0df26bb4ad1a42588c7c99115a64a448",
       "version_major": 2,
       "version_minor": 0
      },
      "text/plain": [
       "HBox(children=(FloatProgress(value=0.0, max=14993.0), HTML(value='')))"
      ]
     },
     "metadata": {},
     "output_type": "display_data"
    },
    {
     "name": "stderr",
     "output_type": "stream",
     "text": [
      "/home/asus/.local/lib/python3.6/site-packages/keras/utils/io_utils.py:60: H5pyDeprecationWarning: The default file mode will change to 'r' (read-only) in h5py 3.0. To suppress this warning, pass the mode you need to h5py.File(), or set the global default h5.get_config().default_file_mode, or set the environment variable H5PY_DEFAULT_READONLY=1. Available modes are: 'r', 'r+', 'w', 'w-'/'x', 'a'. See the docs for details.\n",
      "  f = h5py.File(datapath)\n"
     ]
    }
   ],
   "source": [
    "from keras.utils.io_utils import HDF5Matrix\n",
    "\n",
    "data_size = 1000\n",
    "Y = prep_data(string=\"train\", \n",
    "              data_size=data_size)\n",
    "\n",
    "train_X = HDF5Matrix('train.hdf5', \n",
    "                     'train_images', \n",
    "                     start=0, \n",
    "                     end=int(0.8 * data_size))\n",
    "test_X = HDF5Matrix('train.hdf5', \n",
    "                    'train_images', \n",
    "                    start=int(0.8 * data_size), \n",
    "                    end=data_size)\n",
    "train_Y = np.array(Y)[:int(0.8 * data_size)]\n",
    "test_Y = np.array(Y)[int(0.8 * data_size):]\n"
   ]
  },
  {
   "cell_type": "code",
   "execution_count": 10,
   "metadata": {
    "collapsed": true
   },
   "outputs": [
    {
     "name": "stdout",
     "output_type": "stream",
     "text": [
      "WARNING:tensorflow:From /home/asus/.local/lib/python3.6/site-packages/keras/backend/tensorflow_backend.py:4070: The name tf.nn.max_pool is deprecated. Please use tf.nn.max_pool2d instead.\n",
      "\n",
      "Model: \"sequential_1\"\n",
      "_________________________________________________________________\n",
      "Layer (type)                 Output Shape              Param #   \n",
      "=================================================================\n",
      "resnet50 (Model)             (None, 2048)              23587712  \n",
      "_________________________________________________________________\n",
      "dense_1 (Dense)              (None, 1)                 2049      \n",
      "=================================================================\n",
      "Total params: 23,589,761\n",
      "Trainable params: 2,049\n",
      "Non-trainable params: 23,587,712\n",
      "_________________________________________________________________\n",
      "None\n"
     ]
    }
   ],
   "source": [
    "# !pip3 install tensorflow\n",
    "# !pip3 install keras\n",
    "from keras.applications import ResNet50\n",
    "from keras import Sequential\n",
    "from keras.layers import Dense\n",
    "\n",
    "resnet = ResNet50(include_top=False, \n",
    "                  pooling=\"avg\")\n",
    "## Create model\n",
    "model = Sequential()\n",
    "model.add(resnet)\n",
    "model.add(Dense(1))\n",
    "\n",
    "model.layers[0].trainable = False\n",
    "\n",
    "print(model.summary())"
   ]
  },
  {
   "cell_type": "code",
   "execution_count": 18,
   "metadata": {
    "collapsed": true
   },
   "outputs": [
    {
     "data": {
      "text/plain": [
       "False"
      ]
     },
     "execution_count": 18,
     "metadata": {},
     "output_type": "execute_result"
    }
   ],
   "source": [
    "tf.test.is_gpu_available()\n",
    "## As dataset is so heavy and no\n",
    "## no gpu is available in my computer\n",
    "## the training such a model is tricky"
   ]
  },
  {
   "cell_type": "code",
   "execution_count": null,
   "metadata": {
    "collapsed": true
   },
   "outputs": [
    {
     "name": "stdout",
     "output_type": "stream",
     "text": [
      "Train on 800 samples, validate on 200 samples\n",
      "Epoch 1/30\n"
     ]
    }
   ],
   "source": [
    "from keras.optimizers import Adam\n",
    "\n",
    "## Compile model\n",
    "model.compile(loss='mean_squared_error', \n",
    "              optimizer=Adam())\n",
    "\n",
    "## Fit the model\n",
    "model.fit(batch_size=32, \n",
    "          x=train_X, \n",
    "          y=train_Y, \n",
    "          epochs=30,\n",
    "          validation_data=(test_X, test_Y),\n",
    "          shuffle=\"batch\")\n",
    "\n",
    "## serialize weights to JSON\n",
    "model_json = model.to_json()\n",
    "\n",
    "with open(\"NN-regressor.json\", \"w\") as f:\n",
    "    f.write(model_json)\n",
    "\n",
    "## serialize weights to HDF5\n",
    "model.save_weights(\"NN-regressor.h5\")\n",
    "print(\"Saved model to disk\")"
   ]
  }
 ],
 "metadata": {
  "kernelspec": {
   "display_name": "Python 3",
   "language": "python",
   "name": "python3"
  },
  "language_info": {
   "codemirror_mode": {
    "name": "ipython",
    "version": 3
   },
   "file_extension": ".py",
   "mimetype": "text/x-python",
   "name": "python",
   "nbconvert_exporter": "python",
   "pygments_lexer": "ipython3",
   "version": "3.6.9"
  }
 },
 "nbformat": 4,
 "nbformat_minor": 4
}
