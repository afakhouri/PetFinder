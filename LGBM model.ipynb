{
 "cells": [
  {
   "cell_type": "markdown",
   "metadata": {},
   "source": [
    "## Loading data from CSV files:"
   ]
  },
  {
   "cell_type": "code",
   "execution_count": 1,
   "metadata": {},
   "outputs": [
    {
     "name": "stdout",
     "output_type": "stream",
     "text": [
      "Train\n",
      "(14993, 24)\n",
      "Test\n",
      "(3972, 23)\n",
      "Breeds\n",
      "(307, 3)\n",
      "Colors\n",
      "(7, 2)\n",
      "States\n",
      "(15, 2)\n"
     ]
    }
   ],
   "source": [
    "import pandas as pd\n",
    "from pathlib import Path\n",
    "\n",
    "data = Path(\"../pet_finder\") / \"data\"\n",
    "\n",
    "print('Train')\n",
    "train = pd.read_csv(data / \"train\" / \"train.csv\")\n",
    "print(train.shape)\n",
    "\n",
    "print('Test')\n",
    "test = pd.read_csv(data / \"test\" / \"test.csv\")\n",
    "print(test.shape)\n",
    "\n",
    "print('Breeds')\n",
    "breeds = pd.read_csv(data / \"breed_labels.csv\")\n",
    "print(breeds.shape)\n",
    "\n",
    "print('Colors')\n",
    "colors = pd.read_csv(data / \"color_labels.csv\")\n",
    "print(colors.shape)\n",
    "\n",
    "print('States')\n",
    "states = pd.read_csv(data / \"state_labels.csv\")\n",
    "print(states.shape)"
   ]
  },
  {
   "cell_type": "code",
   "execution_count": 2,
   "metadata": {},
   "outputs": [],
   "source": [
    "target = train['AdoptionSpeed']\n",
    "train.set_index('PetID', inplace=True)\n",
    "test.set_index('PetID', inplace=True)\n",
    "\n",
    "train.drop(['AdoptionSpeed', 'Name'], \n",
    "           axis=1,\n",
    "           inplace=True)\n",
    "test.drop(['Name'],\n",
    "          axis=1,\n",
    "          inplace=True)"
   ]
  },
  {
   "cell_type": "markdown",
   "metadata": {},
   "source": [
    "## Features extraction  from pet description:"
   ]
  },
  {
   "cell_type": "markdown",
   "metadata": {},
   "source": [
    "## Statistics on description's sentiment analysis:\n",
    "\n",
    "Natural Language processing (NLP) uses machine learning to reveal the structure and meaning of text. With NLP, \n",
    "we can extract information about people, places, and events, and better understand social media sentiment and \n",
    "customer conversations. \n",
    "\n",
    "For our project, We have for each pet profile's description an analysis on  sentiment and key entities \n",
    "provided by Google's Natural Language API. There are some descriptions that the API could not analyze. As \n",
    "such, there are fewer sentiment files than there are rows in the dataset.\n",
    "\n",
    "Google Natural Language API reference: https://cloud.google.com/natural-language/docs/basics\n"
   ]
  },
  {
   "cell_type": "code",
   "execution_count": 3,
   "metadata": {},
   "outputs": [],
   "source": [
    "import json\n",
    "import numpy as np\n",
    "import scipy.stats as sc\n",
    "from tqdm.notebook import tqdm\n",
    "\n",
    "def append_statistics(string):\n",
    "    statistics = pd.DataFrame(index=(globals()[string]).index, \n",
    "                              columns=[\"documentSentiment mag\", \n",
    "                                       \"documentSentiment score\",\n",
    "                                       \"mag mean\",\n",
    "                                       \"mag std\",\n",
    "                                       \"mag skew\",\n",
    "                                       \"mag kurtosis\",\n",
    "                                       \"mag sum\",\n",
    "                                       \"score mean\",\n",
    "                                       \"score std\",\n",
    "                                       \"score skew\",\n",
    "                                       \"score kurtosis\",\n",
    "                                       \"score sum\",\n",
    "                                       \"score size\"],\n",
    "                             data=-1)\n",
    "    for pet in tqdm((globals()[string]).index):\n",
    "        try: \n",
    "            with open(data / (string + \"_sentiment\") / (pet + '.json'), 'r') as f:\n",
    "                sentiment = json.load(f)\n",
    "            score = np.array([])\n",
    "            mag = np.array([])\n",
    "            for i in sentiment['sentences']: \n",
    "                score = np.append(score, i['sentiment']['score'])  # saving each sentiment score\n",
    "                mag = np.append(mag, i['sentiment']['magnitude'])  # saving each sentiment magnitude\n",
    "            statistics.loc[pet, statistics.columns[0]] = sentiment['documentSentiment']['magnitude']\n",
    "            statistics.loc[pet, statistics.columns[1]] = sentiment['documentSentiment']['score']\n",
    "            for statistic in statistics.columns[2:]:\n",
    "                strings = statistic.split(\" \")\n",
    "                # applying statistics on sentiments scores and magnitudes\n",
    "                try :\n",
    "                    statistics.loc[pet, statistic] = getattr(np, strings[1])(locals()[strings[0]])\n",
    "                except AttributeError:\n",
    "                    statistics.loc[pet, statistic] = getattr(sc, strings[1])(locals()[strings[0]])\n",
    "        except FileNotFoundError:\n",
    "            pass\n",
    "    return globals()[string].join(statistics)"
   ]
  },
  {
   "cell_type": "code",
   "execution_count": 4,
   "metadata": {
    "collapsed": true
   },
   "outputs": [
    {
     "data": {
      "application/vnd.jupyter.widget-view+json": {
       "model_id": "534854327ffd4c8cbe0d0b5395c28a19",
       "version_major": 2,
       "version_minor": 0
      },
      "text/plain": [
       "HBox(children=(FloatProgress(value=0.0, max=14993.0), HTML(value='')))"
      ]
     },
     "metadata": {},
     "output_type": "display_data"
    },
    {
     "name": "stdout",
     "output_type": "stream",
     "text": [
      "\n"
     ]
    },
    {
     "data": {
      "application/vnd.jupyter.widget-view+json": {
       "model_id": "f8ff54f8428e430bb1325b234d9e4891",
       "version_major": 2,
       "version_minor": 0
      },
      "text/plain": [
       "HBox(children=(FloatProgress(value=0.0, max=3972.0), HTML(value='')))"
      ]
     },
     "metadata": {},
     "output_type": "display_data"
    },
    {
     "name": "stdout",
     "output_type": "stream",
     "text": [
      "\n"
     ]
    }
   ],
   "source": [
    "train = append_statistics(\"train\")\n",
    "test = append_statistics(\"test\")"
   ]
  },
  {
   "cell_type": "markdown",
   "metadata": {},
   "source": [
    "## term frequency-inverse document frequency:\n",
    "term frequency-inverse document frequency (tf-idf) is a numerical statistic that reflect how important a word \n",
    "to a document (for our project document is pet profile's description) in a corpus (for our project corpus is \n",
    "all pet profile's descriptions).\n",
    "\n",
    "The tf-idf value increases proportionally to the number of times a word appears in the document and is offset \n",
    "by the number of documents in the corpus that contain the word.\n",
    "\n",
    "Hence, tf-idf serves us in determining keywords in each pet profile's description and convert descriptions \n",
    "into vectors and each word has its own vector, but tf-idf do not convert directly descriptions into useful \n",
    "features and dimension reduction is necessary to remove less-informative \"noise\" features and for more \n",
    "efficient storage and computation.\n",
    "\n",
    "As tf-idf convert descriptions onto a sparse matrix TruncatedSVD is more appropriate PCA to be used in \n",
    "dimension reducing in our case."
   ]
  },
  {
   "cell_type": "code",
   "execution_count": 5,
   "metadata": {},
   "outputs": [
    {
     "name": "stdout",
     "output_type": "stream",
     "text": [
      "Sum of explained variance ratio of svd decomposition is:  0.19\n"
     ]
    }
   ],
   "source": [
    "from sklearn.feature_extraction.text import TfidfVectorizer\n",
    "from sklearn.decomposition import TruncatedSVD\n",
    "\n",
    "train_description = train.Description.fillna(\"none\").values\n",
    "test_description = test.Description.fillna(\"none\").values\n",
    "\n",
    "tfv = TfidfVectorizer(min_df=3,  # ignore words that have a df strictly lower than 3\n",
    "                      max_features=10000,  # vocabulary size limited to 10000\n",
    "                      strip_accents='unicode',\n",
    "                      analyzer='word',  # bow\n",
    "                      token_pattern=r'\\w{1,}',\n",
    "                      ngram_range=(1, 3), \n",
    "                      use_idf=1,\n",
    "                      smooth_idf=1,\n",
    "                      sublinear_tf=1,\n",
    "                      stop_words = 'english')  # filter noisy words, i.e words that are used\n",
    "                                               # to formulate sentences but do not add any semantic\n",
    "                                               # meaning to the description.\n",
    "# Fit TFIDF\n",
    "tfv.fit(list(train_description))\n",
    "\n",
    "# Vectorize descriptions\n",
    "train_matrix =  tfv.transform(train_description)\n",
    "test_matrix = tfv.transform(test_description)\n",
    "\n",
    "svd = TruncatedSVD(n_components=80)\n",
    "\n",
    "# Fit TruncatedSVD\n",
    "svd.fit(train_matrix)\n",
    "ratio = svd.explained_variance_ratio_.sum()\n",
    "print(f\"Sum of explained variance ratio of svd decomposition is: {ratio: 0.2}\")\n",
    "\n",
    "# Reducing dimension of tf-idf matrix with svd transformation\n",
    "train_svd = svd.transform(train_matrix)\n",
    "train_svd = pd.DataFrame(data=train_svd,\n",
    "                         columns=['svd_{}'.format(i) for i in range(80)],\n",
    "                         index=train.index)\n",
    "test_svd = svd.transform(test_matrix)\n",
    "test_svd = pd.DataFrame(data=test_svd,\n",
    "                        columns=['svd_{}'.format(i) for i in range(80)],\n",
    "                        index=test.index)\n",
    "\n",
    "# Join tf-idf  to dataframes\n",
    "train = train.join(train_svd)\n",
    "test = test.join(test_svd)\n",
    "\n",
    "train.drop(['Description'], axis=1, inplace=True)\n",
    "test.drop(['Description'], axis=1, inplace=True)"
   ]
  },
  {
   "cell_type": "markdown",
   "metadata": {},
   "source": [
    "## Feature extraction from rescuer:"
   ]
  },
  {
   "cell_type": "code",
   "execution_count": 6,
   "metadata": {},
   "outputs": [],
   "source": [
    "def compute_statistics(data, columns, statistics):\n",
    "    df = data.groupby(['RescuerID'])[columns] \\\n",
    "             .agg(statistics).reset_index()\n",
    "    df.columns = ['RescuerID'] + [statistic + '_' + column for column in columns for statistic in statistics]\n",
    "    return df"
   ]
  },
  {
   "cell_type": "code",
   "execution_count": 7,
   "metadata": {},
   "outputs": [],
   "source": [
    "all_data = pd.concat([train, test], ignore_index=True)\n",
    "df = compute_statistics(data=all_data,\n",
    "                        columns=['Age','Fee','PhotoAmt','VideoAmt','Quantity'],\n",
    "                        statistics=['min','max','mean','sum'])\n",
    "train = train.merge(df, on=['RescuerID'], how='left')\n",
    "test = test.merge(df, on=['RescuerID'], how='left')"
   ]
  },
  {
   "cell_type": "code",
   "execution_count": 8,
   "metadata": {},
   "outputs": [],
   "source": [
    "df = compute_statistics(data=all_data[all_data['MaturitySize'] > 0],\n",
    "                        columns=['MaturitySize'],\n",
    "                        statistics=['min','max','mean','sum'])\n",
    "train = train.merge(df, on=['RescuerID'], how='left')\n",
    "test = test.merge(df, on=['RescuerID'], how='left')"
   ]
  },
  {
   "cell_type": "code",
   "execution_count": 9,
   "metadata": {},
   "outputs": [],
   "source": [
    "df = compute_statistics(data=all_data[all_data['Health'] > 0],\n",
    "                        columns=['Health'],\n",
    "                        statistics=['min','max','mean','sum'])\n",
    "train = train.merge(df, on=['RescuerID'], how='left')\n",
    "test = test.merge(df, on=['RescuerID'], how='left')"
   ]
  },
  {
   "cell_type": "code",
   "execution_count": 10,
   "metadata": {},
   "outputs": [],
   "source": [
    "train.drop(['RescuerID'], \n",
    "           axis=1,\n",
    "           inplace=True)\n",
    "test.drop(['RescuerID'],\n",
    "          axis=1,\n",
    "          inplace=True)"
   ]
  },
  {
   "cell_type": "markdown",
   "metadata": {},
   "source": [
    "## Model - Gradient boosting:\n",
    "Gradient boosting is a machine learning technique for regression and classification problems, which produces a \n",
    "prediction model in the form of an ensemble of weak prediction models, typically decision trees.\n",
    "\n",
    "## Why use regression as objective function instead of classification:\n",
    "As evaluation criteria (quadratic kappa) calculate the amount of similarity between predictions and actuals, \n",
    "hence  wrong classifications do not affect overall score in the same way. For example if the adoption speed \n",
    "for a pet is 4 and its better to predict 3 than 2, 1 or 0.\n",
    "Chossing regresion as objective function allows the model to avoid prediction with high error.\n",
    "\n",
    "## Rounding:\n",
    "As the output of regression is a real number, we need to round it into [0, 1, 2, 3].\n",
    "A class to optimize rounding on the regression output is provided in python file."
   ]
  },
  {
   "cell_type": "code",
   "execution_count": 11,
   "metadata": {},
   "outputs": [],
   "source": [
    "# gradient boosting parameters\n",
    "params = {'application': 'regression',  # L2 los\n",
    "          'boosting': 'gbdt',  # traditional Gradiant Boosting Decision Tree\n",
    "          'metric': 'rmse',  # root square loss\n",
    "          'min_split_gain': 0.01,  # the minimal gain to perform split\n",
    "          'min_child_samples': 150,  # minimal number of data in one leaf. \n",
    "                                     # used to deal with over-fitting\n",
    "          'min_child_weight': 0.1,  # minimal sum hessian in one leaf\n",
    "          'verbosity': -1,\n",
    "          'data_random_seed': 3,\n",
    "          'early_stop': 100,\n",
    "          'verbose_eval': 100,\n",
    "          'num_rounds': 10000,  # number of boosting iterations\n",
    "          'max_depth' : 9,  # limit the max depth for tree model.\n",
    "          'feature_fraction' : 0.4,  # GB will randomly select part of features on\n",
    "                                     # each iteration (tree)\n",
    "          'learning_rate': 0.01,  # shrinkage rate\n",
    "          'bagging_fraction' : 0.8,  # like feature_fraction, but this will randomly select\n",
    "                                     # part of data without resampling\n",
    "          'num_leaves' : 80}  # max number of leaves in one tree\n"
   ]
  },
  {
   "cell_type": "code",
   "execution_count": 12,
   "metadata": {},
   "outputs": [],
   "source": [
    "#!pip3 install lightgbm\n",
    "import lightgbm as lgb\n",
    "from OptimizedRounder import OptimizedRounder\n",
    "from  sklearn.metrics import cohen_kappa_score, mean_squared_error\n",
    "from collections import Counter\n",
    "\n",
    "def runLGB(train_X, train_y, test_X, \n",
    "           test_y, test_X2, params,\n",
    "           save_model=False, file_suffix=None):\n",
    "    print('Prep LGB')\n",
    "    d_train = lgb.Dataset(train_X,\n",
    "                          label=train_y)\n",
    "    d_valid = lgb.Dataset(test_X,\n",
    "                          label=test_y)\n",
    "    watchlist = [d_train, d_valid]\n",
    "    print('Train LGB')\n",
    "    num_rounds = params.pop('num_rounds')\n",
    "    verbose_eval = params.pop('verbose_eval')\n",
    "    early_stop = None\n",
    "    if params.get('early_stop'):\n",
    "        early_stop = params.pop('early_stop')\n",
    "    model = lgb.train(params,\n",
    "                      train_set=d_train,\n",
    "                      num_boost_round=num_rounds,\n",
    "                      valid_sets=watchlist,\n",
    "                      verbose_eval=verbose_eval,\n",
    "                      early_stopping_rounds=early_stop)\n",
    "    if save_model:\n",
    "        model.save_model(f\"lgb_regressor_{file_suffix}.txt\",\n",
    "                         num_iteration=model.best_iteration)\n",
    "    print('Predict 1/2')\n",
    "    pred_test_y_k = model.predict(test_X,\n",
    "                                  num_iteration=model.best_iteration)\n",
    "    optR = OptimizedRounder()\n",
    "    optR.fit(pred_test_y_k, test_y)\n",
    "    coefficients = optR.coefficients\n",
    "    pred_test_y = optR.predict(pred_test_y_k, coefficients)\n",
    "    print(\"Valid Counts = \", Counter(test_y))\n",
    "    print(\"Predicted Counts = \", Counter(pred_test_y))\n",
    "    print(\"Coefficients = \", coefficients)\n",
    "    qwk = cohen_kappa_score(test_y, pred_test_y, weights='quadratic')\n",
    "    print(\"QWK = \", qwk)\n",
    "    print('Predict 2/2')\n",
    "    pred_test_y2 = model.predict(test_X2,\n",
    "                                 num_iteration=model.best_iteration)\n",
    "    return pred_test_y_k.reshape(-1, 1), pred_test_y2.reshape(-1, 1), model.feature_importance(), coefficients, qwk\n"
   ]
  },
  {
   "cell_type": "code",
   "execution_count": 13,
   "metadata": {},
   "outputs": [],
   "source": [
    "from sklearn.model_selection import StratifiedKFold\n",
    "from math import sqrt\n",
    "\n",
    "rmse = lambda actual, predicted: sqrt(mean_squared_error(actual, predicted))\n",
    "\n",
    "def run_cv_model(train, test, target,\n",
    "                 model_fn, params={}, eval_fn=rmse,\n",
    "                 label='model', save_model=True):\n",
    "    kf = StratifiedKFold(n_splits=5, random_state=69, shuffle=True)\n",
    "    fold_splits = kf.split(train, target)\n",
    "    cv_scores = []\n",
    "    qwk_scores = []\n",
    "    pred_full_test = 0\n",
    "    pred_train = np.zeros((train.shape[0], 5))\n",
    "    all_coefficients = np.zeros((5, 4))\n",
    "    feature_importance_df = pd.DataFrame()\n",
    "    i = 1\n",
    "    for dev_index, val_index in fold_splits:\n",
    "        print('Started ' + label + ' fold ' + str(i) + '/5')\n",
    "        if isinstance(train, pd.DataFrame):\n",
    "            dev_X, val_X = train.iloc[dev_index], train.iloc[val_index]\n",
    "            dev_y, val_y = target[dev_index], target[val_index]\n",
    "        else:\n",
    "            dev_X, val_X = train[dev_index], train[val_index]\n",
    "            dev_y, val_y = target[dev_index], target[val_index]\n",
    "        params2 = params.copy()\n",
    "        pred_val_y, pred_test_y, importances, coefficients, qwk = model_fn(train_X=dev_X, \n",
    "                                                                           train_y=dev_y,\n",
    "                                                                           test_X=val_X,\n",
    "                                                                           test_y=val_y,\n",
    "                                                                           test_X2=test,\n",
    "                                                                           params=params2,\n",
    "                                                                           save_model=save_model,\n",
    "                                                                           file_suffix=i)\n",
    "        pred_full_test = pred_full_test + pred_test_y\n",
    "        pred_train[val_index] = pred_val_y\n",
    "        all_coefficients[i-1, :] = coefficients\n",
    "        if eval_fn is not None:\n",
    "            cv_score = eval_fn(val_y, pred_val_y)\n",
    "            cv_scores.append(cv_score)\n",
    "            qwk_scores.append(qwk)\n",
    "            print(label + ' cv score {}: RMSE {} QWK {}'.format(i, cv_score, qwk))\n",
    "        fold_importance_df = pd.DataFrame()\n",
    "        fold_importance_df['feature'] = train.columns.values\n",
    "        fold_importance_df['importance'] = importances\n",
    "        fold_importance_df['fold'] = i\n",
    "        feature_importance_df = pd.concat([feature_importance_df, fold_importance_df], axis=0)        \n",
    "        i += 1\n",
    "    print('{} cv RMSE scores : {}'.format(label, cv_scores))\n",
    "    print('{} cv mean RMSE score : {}'.format(label, np.mean(cv_scores)))\n",
    "    print('{} cv std RMSE score : {}'.format(label, np.std(cv_scores)))\n",
    "    print('{} cv QWK scores : {}'.format(label, qwk_scores))\n",
    "    print('{} cv mean QWK score : {}'.format(label, np.mean(qwk_scores)))\n",
    "    print('{} cv std QWK score : {}'.format(label, np.std(qwk_scores)))\n",
    "    pred_full_test = pred_full_test / 5.0\n",
    "    results = {'label': label,\n",
    "               'train': pred_train, 'test': pred_full_test,\n",
    "                'cv': cv_scores, 'qwk': qwk_scores,\n",
    "               'importance': feature_importance_df,\n",
    "               'coefficients': all_coefficients}\n",
    "    return results"
   ]
  },
  {
   "cell_type": "code",
   "execution_count": 14,
   "metadata": {},
   "outputs": [],
   "source": [
    "def grid_scearch_cv(train, test, target, runLGB, params, grid_param) :\n",
    "    qwk_score = 0\n",
    "    for i in product(*grid_param.values()) :\n",
    "        k = 0\n",
    "        for j in grid_param.keys() :\n",
    "            print(j, i[k])\n",
    "            params[j] = i[k]\n",
    "            k += 1\n",
    "        result = run_cv_model(train=train,\n",
    "                              test=test,\n",
    "                              target=target,\n",
    "                              model_fn=runLGB, \n",
    "                              params=params,\n",
    "                              label='lgb')\n",
    "        if np.mean(result['qwk']) > qwk_score :\n",
    "            best_param = i\n",
    "            qwk_score = np.mean(result['qwk'])\n",
    "    k = 0\n",
    "    for j in grid_param.keys() :\n",
    "        print(j, best_param[k], qwk_score)\n",
    "        k += 1\n"
   ]
  },
  {
   "cell_type": "code",
   "execution_count": 15,
   "metadata": {},
   "outputs": [
    {
     "name": "stdout",
     "output_type": "stream",
     "text": [
      "Started lgb fold 1/5\n",
      "Prep LGB\n",
      "Train LGB\n",
      "Training until validation scores don't improve for 100 rounds\n",
      "[100]\ttraining's rmse: 1.06021\tvalid_1's rmse: 1.09628\n",
      "[200]\ttraining's rmse: 0.999467\tvalid_1's rmse: 1.06621\n",
      "[300]\ttraining's rmse: 0.958146\tvalid_1's rmse: 1.05203\n",
      "[400]\ttraining's rmse: 0.924362\tvalid_1's rmse: 1.04275\n",
      "[500]\ttraining's rmse: 0.89707\tvalid_1's rmse: 1.03607\n",
      "[600]\ttraining's rmse: 0.872327\tvalid_1's rmse: 1.03174\n",
      "[700]\ttraining's rmse: 0.849812\tvalid_1's rmse: 1.02796\n",
      "[800]\ttraining's rmse: 0.829753\tvalid_1's rmse: 1.02543\n",
      "[900]\ttraining's rmse: 0.81223\tvalid_1's rmse: 1.02432\n",
      "[1000]\ttraining's rmse: 0.794931\tvalid_1's rmse: 1.02279\n",
      "[1100]\ttraining's rmse: 0.778642\tvalid_1's rmse: 1.02112\n",
      "[1200]\ttraining's rmse: 0.764318\tvalid_1's rmse: 1.01984\n",
      "[1300]\ttraining's rmse: 0.749896\tvalid_1's rmse: 1.01881\n",
      "[1400]\ttraining's rmse: 0.736641\tvalid_1's rmse: 1.01783\n",
      "[1500]\ttraining's rmse: 0.722993\tvalid_1's rmse: 1.01694\n",
      "[1600]\ttraining's rmse: 0.71027\tvalid_1's rmse: 1.0162\n",
      "[1700]\ttraining's rmse: 0.697249\tvalid_1's rmse: 1.01548\n",
      "[1800]\ttraining's rmse: 0.684419\tvalid_1's rmse: 1.01496\n",
      "[1900]\ttraining's rmse: 0.672148\tvalid_1's rmse: 1.01449\n",
      "[2000]\ttraining's rmse: 0.660767\tvalid_1's rmse: 1.01424\n",
      "[2100]\ttraining's rmse: 0.650113\tvalid_1's rmse: 1.01379\n",
      "[2200]\ttraining's rmse: 0.639202\tvalid_1's rmse: 1.01329\n",
      "[2300]\ttraining's rmse: 0.62865\tvalid_1's rmse: 1.01281\n",
      "[2400]\ttraining's rmse: 0.618533\tvalid_1's rmse: 1.01245\n",
      "[2500]\ttraining's rmse: 0.607736\tvalid_1's rmse: 1.01246\n",
      "Early stopping, best iteration is:\n",
      "[2441]\ttraining's rmse: 0.61399\tvalid_1's rmse: 1.01237\n",
      "Predict 1/2\n",
      "Valid Counts =  Counter({4: 839, 2: 808, 3: 652, 1: 618, 0: 82})\n",
      "Predicted Counts =  Counter({2.0: 1488, 4.0: 764, 3.0: 598, 1.0: 149})\n",
      "Coefficients =  [0.46601148 1.63340219 2.56913909 2.89836411]\n",
      "QWK =  0.46411998817761446\n",
      "Predict 2/2\n",
      "lgb cv score 1: RMSE 1.0123718652343594 QWK 0.46411998817761446\n",
      "Started lgb fold 2/5\n",
      "Prep LGB\n",
      "Train LGB\n",
      "Training until validation scores don't improve for 100 rounds\n",
      "[100]\ttraining's rmse: 1.0588\tvalid_1's rmse: 1.09755\n",
      "[200]\ttraining's rmse: 0.997405\tvalid_1's rmse: 1.07049\n",
      "[300]\ttraining's rmse: 0.955631\tvalid_1's rmse: 1.05837\n",
      "[400]\ttraining's rmse: 0.922129\tvalid_1's rmse: 1.05078\n",
      "[500]\ttraining's rmse: 0.894079\tvalid_1's rmse: 1.04592\n",
      "[600]\ttraining's rmse: 0.86766\tvalid_1's rmse: 1.04264\n",
      "[700]\ttraining's rmse: 0.845378\tvalid_1's rmse: 1.03975\n",
      "[800]\ttraining's rmse: 0.824392\tvalid_1's rmse: 1.03832\n",
      "[900]\ttraining's rmse: 0.805133\tvalid_1's rmse: 1.03656\n",
      "[1000]\ttraining's rmse: 0.786939\tvalid_1's rmse: 1.03553\n",
      "[1100]\ttraining's rmse: 0.768791\tvalid_1's rmse: 1.03508\n",
      "[1200]\ttraining's rmse: 0.753061\tvalid_1's rmse: 1.03434\n",
      "[1300]\ttraining's rmse: 0.737812\tvalid_1's rmse: 1.03379\n",
      "[1400]\ttraining's rmse: 0.722464\tvalid_1's rmse: 1.03316\n",
      "[1500]\ttraining's rmse: 0.710061\tvalid_1's rmse: 1.03299\n",
      "[1600]\ttraining's rmse: 0.696216\tvalid_1's rmse: 1.03288\n",
      "[1700]\ttraining's rmse: 0.682519\tvalid_1's rmse: 1.03229\n",
      "[1800]\ttraining's rmse: 0.669713\tvalid_1's rmse: 1.03189\n",
      "Early stopping, best iteration is:\n",
      "[1788]\ttraining's rmse: 0.671168\tvalid_1's rmse: 1.03183\n",
      "Predict 1/2\n",
      "Valid Counts =  Counter({4: 840, 2: 808, 3: 651, 1: 618, 0: 82})\n",
      "Predicted Counts =  Counter({1.0: 865, 3.0: 836, 4.0: 687, 2.0: 610, 0.0: 1})\n",
      "Coefficients =  [0.35391577 2.16021579 2.47500664 2.94640972]\n",
      "QWK =  0.4687551641780524\n",
      "Predict 2/2\n",
      "lgb cv score 2: RMSE 1.0318308241464285 QWK 0.4687551641780524\n",
      "Started lgb fold 3/5\n",
      "Prep LGB\n",
      "Train LGB\n",
      "Training until validation scores don't improve for 100 rounds\n",
      "[100]\ttraining's rmse: 1.06025\tvalid_1's rmse: 1.09628\n",
      "[200]\ttraining's rmse: 0.998906\tvalid_1's rmse: 1.06654\n",
      "[300]\ttraining's rmse: 0.955965\tvalid_1's rmse: 1.05156\n",
      "[400]\ttraining's rmse: 0.921477\tvalid_1's rmse: 1.0424\n",
      "[500]\ttraining's rmse: 0.893692\tvalid_1's rmse: 1.03708\n",
      "[600]\ttraining's rmse: 0.868098\tvalid_1's rmse: 1.03309\n",
      "[700]\ttraining's rmse: 0.845144\tvalid_1's rmse: 1.03082\n",
      "[800]\ttraining's rmse: 0.824464\tvalid_1's rmse: 1.02903\n",
      "[900]\ttraining's rmse: 0.805113\tvalid_1's rmse: 1.02774\n",
      "[1000]\ttraining's rmse: 0.787135\tvalid_1's rmse: 1.0264\n",
      "[1100]\ttraining's rmse: 0.769957\tvalid_1's rmse: 1.02523\n",
      "[1200]\ttraining's rmse: 0.754345\tvalid_1's rmse: 1.02477\n",
      "[1300]\ttraining's rmse: 0.73781\tvalid_1's rmse: 1.02442\n",
      "[1400]\ttraining's rmse: 0.723465\tvalid_1's rmse: 1.02412\n",
      "[1500]\ttraining's rmse: 0.708876\tvalid_1's rmse: 1.02364\n",
      "[1600]\ttraining's rmse: 0.694733\tvalid_1's rmse: 1.02345\n",
      "[1700]\ttraining's rmse: 0.680692\tvalid_1's rmse: 1.02342\n",
      "[1800]\ttraining's rmse: 0.668491\tvalid_1's rmse: 1.02311\n",
      "[1900]\ttraining's rmse: 0.656819\tvalid_1's rmse: 1.02278\n",
      "[2000]\ttraining's rmse: 0.645347\tvalid_1's rmse: 1.02264\n",
      "[2100]\ttraining's rmse: 0.633833\tvalid_1's rmse: 1.02238\n",
      "Early stopping, best iteration is:\n",
      "[2082]\ttraining's rmse: 0.636007\tvalid_1's rmse: 1.02231\n",
      "Predict 1/2\n",
      "Valid Counts =  Counter({4: 840, 2: 807, 3: 652, 1: 618, 0: 82})\n",
      "Predicted Counts =  Counter({2.0: 873, 3.0: 854, 4.0: 649, 1.0: 622, 0.0: 1})\n",
      "Coefficients =  [0.44003957 2.02712144 2.45544637 2.9647485 ]\n",
      "QWK =  0.4754874337576488\n",
      "Predict 2/2\n",
      "lgb cv score 3: RMSE 1.0223127166140924 QWK 0.4754874337576488\n",
      "Started lgb fold 4/5\n",
      "Prep LGB\n",
      "Train LGB\n",
      "Training until validation scores don't improve for 100 rounds\n",
      "[100]\ttraining's rmse: 1.06131\tvalid_1's rmse: 1.09297\n",
      "[200]\ttraining's rmse: 0.999574\tvalid_1's rmse: 1.06151\n",
      "[300]\ttraining's rmse: 0.95718\tvalid_1's rmse: 1.04709\n",
      "[400]\ttraining's rmse: 0.923156\tvalid_1's rmse: 1.0377\n",
      "[500]\ttraining's rmse: 0.895014\tvalid_1's rmse: 1.03205\n",
      "[600]\ttraining's rmse: 0.870318\tvalid_1's rmse: 1.028\n",
      "[700]\ttraining's rmse: 0.84833\tvalid_1's rmse: 1.0247\n",
      "[800]\ttraining's rmse: 0.828847\tvalid_1's rmse: 1.02235\n",
      "[900]\ttraining's rmse: 0.811604\tvalid_1's rmse: 1.02079\n",
      "[1000]\ttraining's rmse: 0.794727\tvalid_1's rmse: 1.01917\n",
      "[1100]\ttraining's rmse: 0.778116\tvalid_1's rmse: 1.01775\n",
      "[1200]\ttraining's rmse: 0.761716\tvalid_1's rmse: 1.01671\n",
      "[1300]\ttraining's rmse: 0.746688\tvalid_1's rmse: 1.01585\n",
      "[1400]\ttraining's rmse: 0.731154\tvalid_1's rmse: 1.01479\n",
      "[1500]\ttraining's rmse: 0.716722\tvalid_1's rmse: 1.01417\n",
      "[1600]\ttraining's rmse: 0.703607\tvalid_1's rmse: 1.01362\n",
      "[1700]\ttraining's rmse: 0.690429\tvalid_1's rmse: 1.01315\n",
      "[1800]\ttraining's rmse: 0.677032\tvalid_1's rmse: 1.01273\n",
      "[1900]\ttraining's rmse: 0.666325\tvalid_1's rmse: 1.01249\n",
      "[2000]\ttraining's rmse: 0.654355\tvalid_1's rmse: 1.01209\n",
      "[2100]\ttraining's rmse: 0.643904\tvalid_1's rmse: 1.01167\n",
      "[2200]\ttraining's rmse: 0.632366\tvalid_1's rmse: 1.01118\n",
      "[2300]\ttraining's rmse: 0.621632\tvalid_1's rmse: 1.01096\n",
      "[2400]\ttraining's rmse: 0.610688\tvalid_1's rmse: 1.01064\n",
      "[2500]\ttraining's rmse: 0.600898\tvalid_1's rmse: 1.01072\n",
      "Early stopping, best iteration is:\n",
      "[2430]\ttraining's rmse: 0.607708\tvalid_1's rmse: 1.01056\n",
      "Predict 1/2\n",
      "Valid Counts =  Counter({4: 839, 2: 807, 3: 652, 1: 618, 0: 82})\n",
      "Predicted Counts =  Counter({2.0: 972, 3.0: 731, 4.0: 695, 1.0: 599, 0.0: 1})\n",
      "Coefficients =  [0.39790935 2.0281738  2.52461259 2.93345254]\n",
      "QWK =  0.4878848452647392\n",
      "Predict 2/2\n",
      "lgb cv score 4: RMSE 1.010559382698007 QWK 0.4878848452647392\n",
      "Started lgb fold 5/5\n",
      "Prep LGB\n",
      "Train LGB\n",
      "Training until validation scores don't improve for 100 rounds\n",
      "[100]\ttraining's rmse: 1.06015\tvalid_1's rmse: 1.09783\n",
      "[200]\ttraining's rmse: 0.999972\tvalid_1's rmse: 1.07084\n",
      "[300]\ttraining's rmse: 0.95907\tvalid_1's rmse: 1.05848\n",
      "[400]\ttraining's rmse: 0.925813\tvalid_1's rmse: 1.05107\n",
      "[500]\ttraining's rmse: 0.897216\tvalid_1's rmse: 1.04628\n",
      "[600]\ttraining's rmse: 0.872049\tvalid_1's rmse: 1.04273\n",
      "[700]\ttraining's rmse: 0.850185\tvalid_1's rmse: 1.04056\n",
      "[800]\ttraining's rmse: 0.829138\tvalid_1's rmse: 1.03871\n",
      "[900]\ttraining's rmse: 0.80977\tvalid_1's rmse: 1.03748\n",
      "[1000]\ttraining's rmse: 0.791752\tvalid_1's rmse: 1.03645\n",
      "[1100]\ttraining's rmse: 0.774682\tvalid_1's rmse: 1.03568\n",
      "[1200]\ttraining's rmse: 0.757068\tvalid_1's rmse: 1.03516\n",
      "[1300]\ttraining's rmse: 0.741771\tvalid_1's rmse: 1.03458\n",
      "[1400]\ttraining's rmse: 0.726038\tvalid_1's rmse: 1.03403\n",
      "[1500]\ttraining's rmse: 0.711615\tvalid_1's rmse: 1.03332\n",
      "[1600]\ttraining's rmse: 0.697907\tvalid_1's rmse: 1.03292\n",
      "[1700]\ttraining's rmse: 0.684277\tvalid_1's rmse: 1.03222\n",
      "[1800]\ttraining's rmse: 0.671821\tvalid_1's rmse: 1.03212\n",
      "Early stopping, best iteration is:\n",
      "[1763]\ttraining's rmse: 0.676323\tvalid_1's rmse: 1.03196\n"
     ]
    },
    {
     "name": "stdout",
     "output_type": "stream",
     "text": [
      "Predict 1/2\n",
      "Valid Counts =  Counter({4: 839, 2: 807, 3: 652, 1: 618, 0: 82})\n",
      "Predicted Counts =  Counter({2.0: 1255, 4.0: 683, 1.0: 531, 3.0: 529})\n",
      "Coefficients =  [0.28548533 1.97697461 2.63783678 2.95524785]\n",
      "QWK =  0.46438887505907467\n",
      "Predict 2/2\n",
      "lgb cv score 5: RMSE 1.0319582187924095 QWK 0.46438887505907467\n",
      "lgb cv RMSE scores : [1.0123718652343594, 1.0318308241464285, 1.0223127166140924, 1.010559382698007, 1.0319582187924095]\n",
      "lgb cv mean RMSE score : 1.0218066014970595\n",
      "lgb cv std RMSE score : 0.009157627476672398\n",
      "lgb cv QWK scores : [0.46411998817761446, 0.4687551641780524, 0.4754874337576488, 0.4878848452647392, 0.46438887505907467]\n",
      "lgb cv mean QWK score : 0.4721272612874259\n",
      "lgb cv std QWK score : 0.008887770190784803\n"
     ]
    }
   ],
   "source": [
    "## running cross validation for lgbm model\n",
    "## number folds = 5\n",
    "\n",
    "results = run_cv_model(train=train, \n",
    "                       test=test,\n",
    "                       target=target,\n",
    "                       model_fn=runLGB,\n",
    "                       params=params,\n",
    "                       label='lgb',\n",
    "                       save_model=True)"
   ]
  },
  {
   "cell_type": "markdown",
   "metadata": {},
   "source": [
    "## Feature importance:"
   ]
  },
  {
   "cell_type": "code",
   "execution_count": 16,
   "metadata": {},
   "outputs": [
    {
     "data": {
      "text/plain": [
       "Text(0.5, 0, 'Relative Importance')"
      ]
     },
     "execution_count": 16,
     "metadata": {},
     "output_type": "execute_result"
    },
    {
     "data": {
      "image/png": "[encoded data removed]",
      "text/plain": [
       "<Figure size 720x1800 with 1 Axes>"
      ]
     },
     "metadata": {
      "needs_background": "light"
     },
     "output_type": "display_data"
    }
   ],
   "source": [
    "import matplotlib.pyplot as plt\n",
    "\n",
    "imports = results['importance'].groupby('feature')['feature', 'importance'].mean().reset_index()\n",
    "imports.sort_values('importance',\n",
    "                    ascending=True,\n",
    "                    inplace=True)\n",
    "\n",
    "# plot of features importances\n",
    "plt.figure(figsize=(10, 25))\n",
    "plt.title('Feature Importances')\n",
    "plt.barh(np.arange(1, 3 * len(imports), 3),\n",
    "         imports.importance,\n",
    "         color='b',\n",
    "         align='center')\n",
    "plt.yticks(np.arange(1, 3 * len(imports), 3),\n",
    "           imports.feature)\n",
    "plt.xlabel('Relative Importance')"
   ]
  },
  {
   "cell_type": "markdown",
   "metadata": {},
   "source": [
    "## Confusion matrix:"
   ]
  },
  {
   "cell_type": "code",
   "execution_count": 17,
   "metadata": {},
   "outputs": [
    {
     "name": "stdout",
     "output_type": "stream",
     "text": [
      "coefficients: [0.3886723  1.96517757 2.53240829 2.93964454]\n",
      "\n",
      "Confusion matrix: \n"
     ]
    },
    {
     "data": {
      "text/html": [
       "<div>\n",
       "<style scoped>\n",
       "    .dataframe tbody tr th:only-of-type {\n",
       "        vertical-align: middle;\n",
       "    }\n",
       "\n",
       "    .dataframe tbody tr th {\n",
       "        vertical-align: top;\n",
       "    }\n",
       "\n",
       "    .dataframe thead th {\n",
       "        text-align: right;\n",
       "    }\n",
       "</style>\n",
       "<table border=\"1\" class=\"dataframe\">\n",
       "  <thead>\n",
       "    <tr style=\"text-align: right;\">\n",
       "      <th></th>\n",
       "      <th>Predicted label 0</th>\n",
       "      <th>Predicted label 1</th>\n",
       "      <th>Predicted label 2</th>\n",
       "      <th>Predicted label 3</th>\n",
       "      <th>Predicted label 4</th>\n",
       "    </tr>\n",
       "  </thead>\n",
       "  <tbody>\n",
       "    <tr>\n",
       "      <th>Label 0</th>\n",
       "      <td>3</td>\n",
       "      <td>144</td>\n",
       "      <td>152</td>\n",
       "      <td>71</td>\n",
       "      <td>40</td>\n",
       "    </tr>\n",
       "    <tr>\n",
       "      <th>Label 1</th>\n",
       "      <td>0</td>\n",
       "      <td>1062</td>\n",
       "      <td>1333</td>\n",
       "      <td>476</td>\n",
       "      <td>219</td>\n",
       "    </tr>\n",
       "    <tr>\n",
       "      <th>Label 2</th>\n",
       "      <td>0</td>\n",
       "      <td>840</td>\n",
       "      <td>1867</td>\n",
       "      <td>862</td>\n",
       "      <td>468</td>\n",
       "    </tr>\n",
       "    <tr>\n",
       "      <th>Label 3</th>\n",
       "      <td>0</td>\n",
       "      <td>385</td>\n",
       "      <td>1334</td>\n",
       "      <td>985</td>\n",
       "      <td>555</td>\n",
       "    </tr>\n",
       "    <tr>\n",
       "      <th>Label 4</th>\n",
       "      <td>0</td>\n",
       "      <td>116</td>\n",
       "      <td>757</td>\n",
       "      <td>1121</td>\n",
       "      <td>2203</td>\n",
       "    </tr>\n",
       "  </tbody>\n",
       "</table>\n",
       "</div>"
      ],
      "text/plain": [
       "         Predicted label 0  Predicted label 1  Predicted label 2  \\\n",
       "Label 0                  3                144                152   \n",
       "Label 1                  0               1062               1333   \n",
       "Label 2                  0                840               1867   \n",
       "Label 3                  0                385               1334   \n",
       "Label 4                  0                116                757   \n",
       "\n",
       "         Predicted label 3  Predicted label 4  \n",
       "Label 0                 71                 40  \n",
       "Label 1                476                219  \n",
       "Label 2                862                468  \n",
       "Label 3                985                555  \n",
       "Label 4               1121               2203  "
      ]
     },
     "execution_count": 17,
     "metadata": {},
     "output_type": "execute_result"
    }
   ],
   "source": [
    "from sklearn.metrics import confusion_matrix as sk_cmatrix\n",
    "\n",
    "optR = OptimizedRounder()\n",
    "coefficients = np.mean(results['coefficients'], axis=0)\n",
    "print(f\"coefficients: {coefficients}\\n\")\n",
    "\n",
    "train_predictions = [r[0] for r in results['train']]\n",
    "train_predictions = optR.predict(train_predictions, coefficients).astype(int)\n",
    "\n",
    "print(\"Confusion matrix: \")\n",
    "pd.DataFrame(sk_cmatrix(target, \n",
    "                        train_predictions), \n",
    "             index=[\"Label \" + str(i) for i in range(5)],\n",
    "             columns=[\"Predicted label \" + str(i) for i in range(5)])"
   ]
  },
  {
   "cell_type": "code",
   "execution_count": 18,
   "metadata": {},
   "outputs": [
    {
     "data": {
      "text/plain": [
       "Counter({1: 2547, 3: 3515, 4: 3485, 2: 5443, 0: 3})"
      ]
     },
     "execution_count": 18,
     "metadata": {},
     "output_type": "execute_result"
    }
   ],
   "source": [
    "Counter(train_predictions)"
   ]
  },
  {
   "cell_type": "code",
   "execution_count": 19,
   "metadata": {},
   "outputs": [
    {
     "data": {
      "text/plain": [
       "Counter({2: 4037, 0: 410, 3: 3259, 1: 3090, 4: 4197})"
      ]
     },
     "execution_count": 19,
     "metadata": {},
     "output_type": "execute_result"
    }
   ],
   "source": [
    "Counter(target)"
   ]
  },
  {
   "cell_type": "code",
   "execution_count": 21,
   "metadata": {},
   "outputs": [],
   "source": [
    "np.save(\"OptR_coefficients\", coefficients)"
   ]
  }
 ],
 "metadata": {
  "celltoolbar": "Raw Cell Format",
  "kernelspec": {
   "display_name": "Python 3",
   "language": "python",
   "name": "python3"
  },
  "language_info": {
   "codemirror_mode": {
    "name": "ipython",
    "version": 3
   },
   "file_extension": ".py",
   "mimetype": "text/x-python",
   "name": "python",
   "nbconvert_exporter": "python",
   "pygments_lexer": "ipython3",
   "version": "3.6.9"
  }
 },
 "nbformat": 4,
 "nbformat_minor": 2
}
